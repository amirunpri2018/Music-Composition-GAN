{
 "cells": [
  {
   "cell_type": "code",
   "execution_count": 4,
   "metadata": {},
   "outputs": [],
   "source": [
    "import numpy as np\n",
    "\n",
    "from random import randrange\n",
    "\n",
    "from mido import MidiFile, MidiTrack, Message\n",
    "\n",
    "import mido\n",
    "\n",
    "import NoteBins\n",
    "\n",
    "from keras.models import load_model"
   ]
  },
  {
   "cell_type": "code",
   "execution_count": 6,
   "metadata": {},
   "outputs": [
    {
     "name": "stderr",
     "output_type": "stream",
     "text": [
      "C:\\Users\\Vee\\Anaconda3\\lib\\site-packages\\keras\\engine\\saving.py:341: UserWarning: No training configuration found in save file: the model was *not* compiled. Compile it manually.\n",
      "  warnings.warn('No training configuration found in save file: '\n"
     ]
    }
   ],
   "source": [
    "model = load_model(r'C:\\Users\\Vee\\Desktop\\python\\SDP GAN\\latest.h5')"
   ]
  },
  {
   "cell_type": "code",
   "execution_count": 43,
   "metadata": {},
   "outputs": [
    {
     "name": "stdout",
     "output_type": "stream",
     "text": [
      "[6.903808   0.57249403 5.187937   6.5626087  0.44445127 1.4980841\n",
      " 6.588459   2.5466309  4.084185   8.946526   1.1340433  2.1906044\n",
      " 5.7330275  0.9909321  5.5175805  4.0831656 ]\n"
     ]
    }
   ],
   "source": [
    "random = np.random.normal(0, 1, (1,16))\n",
    "jamie = model.predict(random)\n",
    "for x in range(4):\n",
    "    for y in range(4):\n",
    "        jamie[0][x][y] = abs(jamie[0][x][y] * 11)\n",
    "jamie = jamie.reshape(16)\n",
    "print(jamie)"
   ]
  },
  {
   "cell_type": "code",
   "execution_count": 39,
   "metadata": {
    "scrolled": true
   },
   "outputs": [],
   "source": [
    "timing = np.load(r'C:\\Users\\Vee\\Desktop\\python\\timing\\timing.npy',allow_pickle=True)\n",
    "mid = MidiFile()\n",
    "track = MidiTrack()\n",
    "mid.tracks.append(track)\n",
    "track2 = MidiTrack()\n",
    "mid.tracks.append(track2)\n",
    "track3 = MidiTrack()\n",
    "mid.tracks.append(track3)\n",
    "track4 = MidiTrack()\n",
    "mid.tracks.append(track4)\n",
    "octave = 12 * 6\n",
    "t = 2\n",
    "constant = 0.32\n",
    "for x in range(2):\n",
    "    track.append(Message('program_change', program=2,time=0))\n",
    "    track2.append(Message('program_change', program=2, time=0))\n",
    "    track3.append(Message('program_change', program=2,time=0))\n",
    "    track4.append(Message('program_change', program=2, time=0))\n",
    "\n",
    "    track2.append(Message('note_on', note= 68, velocity=randrange(70,80), time=0))\n",
    "    track2.append(Message('note_off', note= 68, velocity=randrange(70,80), time=1920))\n",
    "    track3.append(Message('note_on', note= 64, velocity=randrange(70,80), time=0))\n",
    "    track3.append(Message('note_off', note= 64, velocity=randrange(70,80), time=1920))\n",
    "    track4.append(Message('note_on', note= 59, velocity=randrange(70,80), time=0))\n",
    "    track4.append(Message('note_off', note=59, velocity=randrange(70,80), time=1920))\n",
    "\n",
    "    track2.append(Message('note_on', note= 69, velocity=randrange(70,80), time=0))\n",
    "    track2.append(Message('note_off', note= 69, velocity=randrange(70,80), time=1920))\n",
    "    track3.append(Message('note_on', note= 66, velocity=randrange(70,80), time=0))\n",
    "    track3.append(Message('note_off', note= 66, velocity=randrange(70,80), time=1920))\n",
    "    track4.append(Message('note_on', note= 62, velocity=randrange(70,80), time=0))\n",
    "    track4.append(Message('note_off', note=62, velocity=randrange(70,80), time=1920))\n",
    "\n",
    "    track2.append(Message('note_on', note= 73, velocity=randrange(70,80), time=0))\n",
    "    track2.append(Message('note_off', note= 73, velocity=randrange(70,80), time=1920))\n",
    "    track3.append(Message('note_on', note= 68, velocity=randrange(70,80), time=0))\n",
    "    track3.append(Message('note_off', note= 68, velocity=randrange(70,80), time=1920))\n",
    "    track4.append(Message('note_on', note= 64, velocity=randrange(70,80), time=0))\n",
    "    track4.append(Message('note_off', note=64, velocity=randrange(70,80), time=1920))\n",
    "\n",
    "    track2.append(Message('note_on', note= 69, velocity=randrange(70,80), time=0))\n",
    "    track2.append(Message('note_off', note= 69, velocity=randrange(70,80), time=1920))\n",
    "    track3.append(Message('note_on', note= 66, velocity=randrange(70,80), time=0))\n",
    "    track3.append(Message('note_off', note= 66, velocity=randrange(70,80), time=1920))\n",
    "    track4.append(Message('note_on', note= 62, velocity=randrange(70,80), time=0))\n",
    "    track4.append(Message('note_off', note=62, velocity=randrange(70,80), time=1920))\n",
    "for x in range(2):\n",
    "    for i in range(len(timing[0])):\n",
    "        if (timing[t][i][0] == 1):\n",
    "            track.append(Message('note_on', note= octave + NoteBins.note_reg(int(jamie[timing[t][i][1]])), velocity=randrange(90,110), time=int(timing[t][i][2])))\n",
    "        elif (timing[t][i][0] == 0):\n",
    "            track.append(Message('note_off', note= octave + NoteBins.note_reg(int(jamie[timing[t][i][1]])), velocity=randrange(90,110), time=int(timing[t][i][2] * constant)))\n",
    "mid.save('new.mid')"
   ]
  },
  {
   "cell_type": "code",
   "execution_count": 49,
   "metadata": {},
   "outputs": [
    {
     "name": "stdout",
     "output_type": "stream",
     "text": [
      "5\n"
     ]
    }
   ],
   "source": [
    "timing = np.load(r'C:\\Users\\Vee\\Desktop\\python\\timing\\timing.npy',allow_pickle=True)\n",
    "mid = MidiFile()\n",
    "track = MidiTrack()\n",
    "mid.tracks.append(track)\n",
    "octave = 12 * 6\n",
    "t = randrange(len(timing))\n",
    "print(t)\n",
    "\n",
    "for i in range(len(timing[0])):\n",
    "    if (timing[t][i][0] == 1):\n",
    "        track.append(Message('note_on', note= octave + NoteBins.note_reg(int(jamie[timing[t][i][1]])), velocity=randrange(90,110), time=timing[t][i][2]))\n",
    "    elif (timing[t][i][0] == 0):\n",
    "        track.append(Message('note_off', note= octave + NoteBins.note_reg(int(jamie[timing[t][i][1]])), velocity=randrange(90,110), time=timing[t][i][2]))\n",
    "mid.save('new.mid')"
   ]
  }
 ],
 "metadata": {
  "kernelspec": {
   "display_name": "Python 3",
   "language": "python",
   "name": "python3"
  },
  "language_info": {
   "codemirror_mode": {
    "name": "ipython",
    "version": 3
   },
   "file_extension": ".py",
   "mimetype": "text/x-python",
   "name": "python",
   "nbconvert_exporter": "python",
   "pygments_lexer": "ipython3",
   "version": "3.7.3"
  }
 },
 "nbformat": 4,
 "nbformat_minor": 2
}
