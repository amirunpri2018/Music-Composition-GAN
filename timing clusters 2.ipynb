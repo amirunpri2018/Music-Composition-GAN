{
 "cells": [
  {
   "cell_type": "code",
   "execution_count": 9,
   "metadata": {},
   "outputs": [],
   "source": [
    "import numpy as np\n",
    "import os\n",
    "from mido import MidiFile, MidiTrack, Message\n",
    "import mido\n",
    "from random import randrange\n",
    "import NoteBins\n",
    "from sklearn.cluster import KMeans"
   ]
  },
  {
   "cell_type": "code",
   "execution_count": 10,
   "metadata": {},
   "outputs": [],
   "source": [
    "paths = []\n",
    "songs = []\n",
    "for r, d, f in os.walk(r\"C:\\Users\\Vee\\Desktop\\python\\timing\\songs\"):\n",
    "    for file in f:\n",
    "        if '.mid' in file:\n",
    "            paths.append(os.path.join(r, file))\n",
    "\n",
    "for path in paths:\n",
    "    mid = MidiFile(path, type = 1)\n",
    "    songs.append(mid)"
   ]
  },
  {
   "cell_type": "code",
   "execution_count": 11,
   "metadata": {},
   "outputs": [],
   "source": [
    "notes = []\n",
    "dataset = []\n",
    "timing = []"
   ]
  },
  {
   "cell_type": "code",
   "execution_count": 12,
   "metadata": {},
   "outputs": [],
   "source": [
    "#for each in midi object in list of songs\n",
    "for i in range(len(songs)):\n",
    "    #for each note in midi object\n",
    "    for msg in songs[i]:\n",
    "        if not msg.is_meta:\n",
    "            if (msg.type == 'note_on'):\n",
    "                notes.append([1,msg.note,int(msg.time*960)])\n",
    "            elif(msg.type == 'note_off'):\n",
    "                notes.append([0,msg.note,int(msg.time*960)])\n",
    "    count = 0\n",
    "    dict = {}\n",
    "    for i in range(len(notes)):\n",
    "        if not (notes[i][1] in dict):\n",
    "            dict[notes[i][1]] = count\n",
    "            notes[i][1] = count\n",
    "            count += 1\n",
    "        else:\n",
    "            notes[i][1] = dict.pop(notes[i][1])\n",
    "    timing = []\n",
    "    for i in range(len(notes)):\n",
    "        if(notes[i][1] < 16):\n",
    "            timing.append(notes[i])\n",
    "    timing[0][2] = 0\n",
    "    dataset.append(timing)\n",
    "    timing = []\n",
    "    notes = []"
   ]
  },
  {
   "cell_type": "code",
   "execution_count": 13,
   "metadata": {},
   "outputs": [
    {
     "data": {
      "text/plain": [
       "(6, 32, 3)"
      ]
     },
     "execution_count": 13,
     "metadata": {},
     "output_type": "execute_result"
    }
   ],
   "source": [
    "dataset = np.array(dataset)\n",
    "dataset.shape"
   ]
  },
  {
   "cell_type": "code",
   "execution_count": 14,
   "metadata": {},
   "outputs": [],
   "source": [
    "final = []\n",
    "for z in range(len(dataset)):\n",
    "    length = []\n",
    "    for i in range(len(dataset[z])):\n",
    "        if(dataset[z][i][0] == 0):\n",
    "            length.append(dataset[z][i][2])\n",
    "    length = np.array(length)\n",
    "    length = length.reshape(len(length),1)\n",
    "    kmeans = KMeans(n_clusters=4, random_state=2).fit(length)\n",
    "    x = kmeans.labels_\n",
    "    clust = [-1,-1,-1,-1,-1]\n",
    "    for i in range(len(x)):\n",
    "        if(x[i] == 0):\n",
    "            clust[0] = length[i][0]\n",
    "        elif(x[i]==1):\n",
    "            clust[1] = length[i][0]\n",
    "        elif(x[i]==2):\n",
    "            clust[2] = length[i][0]\n",
    "        elif(x[i]==3):\n",
    "            clust[3] = length[i][0]\n",
    "        elif(x[i]==4):\n",
    "            clust[4] = length[i][0]\n",
    "    orig = np.array(clust)\n",
    "    clust.sort()\n",
    "    new = [-1,-1,-1,-1,-1]\n",
    "    for i in range(len(clust)):\n",
    "        for j in range(len(orig)):\n",
    "            if(clust[i] == orig[j]):\n",
    "                new[i] = j\n",
    "    for i in range(len(new)):\n",
    "        for j in range(len(x)):\n",
    "            if(new[i] == x[j]):\n",
    "                if(i == 0):\n",
    "                    length[j][0] = 0\n",
    "                elif(i == 1):\n",
    "                    length[j][0] = 205\n",
    "                elif(i == 2):\n",
    "                    length[j][0] = 410\n",
    "                elif(i == 3):\n",
    "                    length[j][0] = 615\n",
    "                elif(i == 4):\n",
    "                    length[j][0] = 810\n",
    "    count = 0\n",
    "    for i in range(len(dataset[z])):\n",
    "        if(dataset[z][i][0] == 0):\n",
    "            dataset[z][i][2] = length[count]\n",
    "            count+=1\n",
    "    final.append(dataset[z])"
   ]
  },
  {
   "cell_type": "code",
   "execution_count": 15,
   "metadata": {},
   "outputs": [
    {
     "data": {
      "text/plain": [
       "array([[  1,   0,   0],\n",
       "       [  0,   0, 410],\n",
       "       [  1,   1,   2],\n",
       "       [  0,   1, 410],\n",
       "       [  1,   2,   2],\n",
       "       [  0,   2, 410],\n",
       "       [  1,   3, 162],\n",
       "       [  0,   3, 410],\n",
       "       [  1,   4,   2],\n",
       "       [  0,   4, 810],\n",
       "       [  1,   5,   2],\n",
       "       [  0,   5, 615],\n",
       "       [  1,   6, 322],\n",
       "       [  0,   6, 410],\n",
       "       [  1,   7,   2],\n",
       "       [  0,   7, 410],\n",
       "       [  1,   8,   2],\n",
       "       [  0,   8, 410],\n",
       "       [  1,   9, 162],\n",
       "       [  0,   9, 410],\n",
       "       [  1,  10,   2],\n",
       "       [  0,  10, 810],\n",
       "       [  1,  11,   2],\n",
       "       [  0,  11, 810],\n",
       "       [  1,  12, 110],\n",
       "       [  0,  12, 410],\n",
       "       [  1,  13,   1],\n",
       "       [  0,  13, 410],\n",
       "       [  1,  14,  11],\n",
       "       [  1,  15, 147],\n",
       "       [  0,  14, 205],\n",
       "       [  0,  15, 810]])"
      ]
     },
     "execution_count": 15,
     "metadata": {},
     "output_type": "execute_result"
    }
   ],
   "source": [
    "final[1]"
   ]
  },
  {
   "cell_type": "code",
   "execution_count": 16,
   "metadata": {},
   "outputs": [],
   "source": [
    "np.save(r'C:\\Users\\Vee\\Desktop\\python\\timing\\timing.npy',final)"
   ]
  }
 ],
 "metadata": {
  "kernelspec": {
   "display_name": "Python 3",
   "language": "python",
   "name": "python3"
  },
  "language_info": {
   "codemirror_mode": {
    "name": "ipython",
    "version": 3
   },
   "file_extension": ".py",
   "mimetype": "text/x-python",
   "name": "python",
   "nbconvert_exporter": "python",
   "pygments_lexer": "ipython3",
   "version": "3.7.3"
  }
 },
 "nbformat": 4,
 "nbformat_minor": 2
}
