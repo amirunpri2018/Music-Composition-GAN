{
 "cells": [
  {
   "cell_type": "code",
   "execution_count": 1,
   "metadata": {},
   "outputs": [
    {
     "name": "stderr",
     "output_type": "stream",
     "text": [
      "Using TensorFlow backend.\n"
     ]
    }
   ],
   "source": [
    "from __future__ import print_function, division\n",
    "\n",
    "from keras.datasets import mnist\n",
    "from keras.layers import Input, Dense, Reshape, Flatten, Dropout\n",
    "from keras.layers import BatchNormalization, Activation\n",
    "from keras.layers.advanced_activations import LeakyReLU\n",
    "from keras.layers.convolutional import UpSampling2D, Conv2D\n",
    "from keras.models import Sequential, Model, load_model\n",
    "from keras.optimizers import Adam\n",
    "\n",
    "import matplotlib.pyplot as plt\n",
    "\n",
    "import sys\n",
    "\n",
    "import numpy as np\n",
    "\n",
    "import os\n",
    "\n",
    "from PIL import Image\n",
    "\n",
    "from matplotlib.pyplot import imshow\n",
    "\n",
    "from random import randrange\n",
    "\n",
    "from mido import MidiFile, MidiTrack, Message\n",
    "import mido\n",
    "\n",
    "import NoteBins"
   ]
  },
  {
   "cell_type": "code",
   "execution_count": 2,
   "metadata": {},
   "outputs": [
    {
     "name": "stderr",
     "output_type": "stream",
     "text": [
      "C:\\Users\\Vee\\Anaconda3\\lib\\site-packages\\keras\\engine\\saving.py:341: UserWarning: No training configuration found in save file: the model was *not* compiled. Compile it manually.\n",
      "  warnings.warn('No training configuration found in save file: '\n"
     ]
    }
   ],
   "source": [
    "model = load_model('LSTM_generator.h5')"
   ]
  },
  {
   "cell_type": "code",
   "execution_count": 25,
   "metadata": {
    "scrolled": true
   },
   "outputs": [
    {
     "name": "stdout",
     "output_type": "stream",
     "text": [
      "[[[57.443146]\n",
      "  [56.478416]\n",
      "  [54.015232]\n",
      "  [50.69269 ]\n",
      "  [46.98979 ]\n",
      "  [42.963924]\n",
      "  [38.324574]\n",
      "  [33.903954]\n",
      "  [30.020306]\n",
      "  [26.13224 ]\n",
      "  [22.536375]\n",
      "  [19.071125]\n",
      "  [15.97287 ]\n",
      "  [13.210926]\n",
      "  [10.796253]\n",
      "  [92.68485 ]]]\n"
     ]
    }
   ],
   "source": [
    "random = np.random.normal(0, 1, (1,4,4))\n",
    "jamie = model.predict(random)\n",
    "for x in range(16):\n",
    "    jamie[0][x][0] = abs(jamie[0][x][0] * 11)\n",
    "    while(jamie[0][x][0] < 10):\n",
    "        jamie[0][x][0] = abs(jamie[0][x][0] * 10)\n",
    "    while(jamie[0][x][0] > 127):\n",
    "        jamie[0][x][0] = jamie[0][x][0] / 10\n",
    "print(jamie)"
   ]
  },
  {
   "cell_type": "code",
   "execution_count": 26,
   "metadata": {
    "scrolled": true
   },
   "outputs": [],
   "source": [
    "timing = np.load(r'C:\\Users\\Vee\\Desktop\\python\\csp.npy',allow_pickle=True)\n",
    "count = 0\n",
    "mid = MidiFile()\n",
    "track = MidiTrack()\n",
    "mid.tracks.append(track)\n",
    "track2 = MidiTrack()\n",
    "mid.tracks.append(track2)\n",
    "track3 = MidiTrack()\n",
    "mid.tracks.append(track3)\n",
    "track4 = MidiTrack()\n",
    "mid.tracks.append(track4)\n",
    "octave = 12 * 6\n",
    "t = randrange(len(timing))\n",
    "\n",
    "track.append(Message('program_change', program=3,time=0))\n",
    "track2.append(Message('program_change', program=3, time=0))\n",
    "track3.append(Message('program_change', program=3,time=0))\n",
    "track4.append(Message('program_change', program=3, time=0))\n",
    "    \n",
    "for i in range(2):\n",
    "    track2.append(Message('note_on', note= 58, velocity=randrange(70,80), time=0))\n",
    "    track2.append(Message('note_off', note= 58, velocity=randrange(70,80), time=1920))\n",
    "    track3.append(Message('note_on', note= 60, velocity=randrange(70,80), time=0))\n",
    "    track3.append(Message('note_off', note= 60, velocity=randrange(70,80), time=1920))\n",
    "    track4.append(Message('note_on', note= 62, velocity=randrange(70,80), time=0))\n",
    "    track4.append(Message('note_off', note=62, velocity=randrange(70,80), time=1920))\n",
    "\n",
    "    track2.append(Message('note_on', note= 57, velocity=randrange(70,80), time=0))\n",
    "    track2.append(Message('note_off', note= 57, velocity=randrange(70,80), time=1920))\n",
    "    track3.append(Message('note_on', note= 58, velocity=randrange(70,80), time=0))\n",
    "    track3.append(Message('note_off', note= 58, velocity=randrange(70,80), time=1920))\n",
    "    track4.append(Message('note_on', note= 60, velocity=randrange(70,80), time=0))\n",
    "    track4.append(Message('note_off', note=60, velocity=randrange(70,80), time=1920))\n",
    "\n",
    "    track2.append(Message('note_on', note= 55, velocity=randrange(70,80), time=0))\n",
    "    track2.append(Message('note_off', note= 55, velocity=randrange(70,80), time=1920))\n",
    "    track3.append(Message('note_on', note= 57, velocity=randrange(70,80), time=0))\n",
    "    track3.append(Message('note_off', note= 57, velocity=randrange(70,80), time=1920))\n",
    "    track4.append(Message('note_on', note= 58, velocity=randrange(70,80), time=0))\n",
    "    track4.append(Message('note_off', note=58, velocity=randrange(70,80), time=1920))\n",
    "\n",
    "    track2.append(Message('note_on', note= 53, velocity=randrange(70,80), time=0))\n",
    "    track2.append(Message('note_off', note= 53, velocity=randrange(70,80), time=1920))\n",
    "    track3.append(Message('note_on', note= 55, velocity=randrange(70,80), time=0))\n",
    "    track3.append(Message('note_off', note= 55, velocity=randrange(70,80), time=1920))\n",
    "    track4.append(Message('note_on', note= 57, velocity=randrange(70,80), time=0))\n",
    "    track4.append(Message('note_off', note=57, velocity=randrange(70,80), time=1920))\n",
    "for x in range(2):\n",
    "    count = 0\n",
    "    for i in range(16):\n",
    "        if(i == 0):\n",
    "            track.append(Message('note_on', note= octave + NoteBins.note_reg(int(jamie[0][i][0])), velocity=randrange(90,110), time=0))\n",
    "        else:\n",
    "            track.append(Message('note_on', note= octave + NoteBins.note_reg(int(jamie[0][i][0])), velocity=randrange(90,110), time=20))\n",
    "        track.append(Message('note_off', note= octave + NoteBins.note_reg(int(jamie[0][i][0])), velocity=randrange(90,110), time=timing[t].get(str(i))))\n",
    "        count = count + 1\n",
    "mid.save('jek.mid')"
   ]
  }
 ],
 "metadata": {
  "kernelspec": {
   "display_name": "Python 3",
   "language": "python",
   "name": "python3"
  },
  "language_info": {
   "codemirror_mode": {
    "name": "ipython",
    "version": 3
   },
   "file_extension": ".py",
   "mimetype": "text/x-python",
   "name": "python",
   "nbconvert_exporter": "python",
   "pygments_lexer": "ipython3",
   "version": "3.7.3"
  }
 },
 "nbformat": 4,
 "nbformat_minor": 2
}
